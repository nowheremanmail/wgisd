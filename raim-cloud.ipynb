{
  "cells": [
    {
      "metadata": {
        "trusted": true
      },
      "cell_type": "code",
      "source": "!pip install azure-cognitiveservices-vision-customvision\n",
      "execution_count": 16,
      "outputs": [
        {
          "output_type": "stream",
          "text": "Collecting azure-cognitiveservices-vision-customvision\n\u001b[?25l  Downloading https://files.pythonhosted.org/packages/75/23/1b19ab32108319a4a30ea19559aad8ffbd5cc0b6d136f208fc2f78088715/azure_cognitiveservices_vision_customvision-1.0.0-py2.py3-none-any.whl (109kB)\n\u001b[K     |████████████████████████████████| 112kB 5.1MB/s eta 0:00:01\n\u001b[?25hRequirement already satisfied: msrest>=0.5.0 in /home/nbuser/anaconda3_501/lib/python3.6/site-packages (from azure-cognitiveservices-vision-customvision) (0.6.10)\nRequirement already satisfied: azure-common~=1.1 in /home/nbuser/anaconda3_501/lib/python3.6/site-packages (from azure-cognitiveservices-vision-customvision) (1.1.23)\nRequirement already satisfied: certifi>=2017.4.17 in /home/nbuser/anaconda3_501/lib/python3.6/site-packages (from msrest>=0.5.0->azure-cognitiveservices-vision-customvision) (2018.10.15)\nRequirement already satisfied: requests-oauthlib>=0.5.0 in /home/nbuser/anaconda3_501/lib/python3.6/site-packages (from msrest>=0.5.0->azure-cognitiveservices-vision-customvision) (1.3.0)\nRequirement already satisfied: requests~=2.16 in /home/nbuser/anaconda3_501/lib/python3.6/site-packages (from msrest>=0.5.0->azure-cognitiveservices-vision-customvision) (2.22.0)\nRequirement already satisfied: isodate>=0.6.0 in /home/nbuser/anaconda3_501/lib/python3.6/site-packages (from msrest>=0.5.0->azure-cognitiveservices-vision-customvision) (0.6.0)\nRequirement already satisfied: oauthlib>=3.0.0 in /home/nbuser/anaconda3_501/lib/python3.6/site-packages (from requests-oauthlib>=0.5.0->msrest>=0.5.0->azure-cognitiveservices-vision-customvision) (3.1.0)\nRequirement already satisfied: idna<2.9,>=2.5 in /home/nbuser/anaconda3_501/lib/python3.6/site-packages (from requests~=2.16->msrest>=0.5.0->azure-cognitiveservices-vision-customvision) (2.7)\nRequirement already satisfied: urllib3!=1.25.0,!=1.25.1,<1.26,>=1.21.1 in /home/nbuser/anaconda3_501/lib/python3.6/site-packages (from requests~=2.16->msrest>=0.5.0->azure-cognitiveservices-vision-customvision) (1.23)\nRequirement already satisfied: chardet<3.1.0,>=3.0.2 in /home/nbuser/anaconda3_501/lib/python3.6/site-packages (from requests~=2.16->msrest>=0.5.0->azure-cognitiveservices-vision-customvision) (3.0.4)\nRequirement already satisfied: six in /home/nbuser/anaconda3_501/lib/python3.6/site-packages (from isodate>=0.6.0->msrest>=0.5.0->azure-cognitiveservices-vision-customvision) (1.11.0)\nInstalling collected packages: azure-cognitiveservices-vision-customvision\nSuccessfully installed azure-cognitiveservices-vision-customvision-1.0.0\n\u001b[33mWARNING: You are using pip version 19.3.1; however, version 20.0.2 is available.\nYou should consider upgrading via the 'pip install --upgrade pip' command.\u001b[0m\n",
          "name": "stdout"
        }
      ]
    },
    {
      "metadata": {
        "trusted": true
      },
      "cell_type": "code",
      "source": "from azure.cognitiveservices.vision.customvision.training import CustomVisionTrainingClient\nfrom azure.cognitiveservices.vision.customvision.training.models import ImageFileCreateEntry, Region\n\nENDPOINT = \"https://westeurope.api.cognitive.microsoft.com/\"\n\n# Replace with a valid key\ntraining_key = \"ee96ce4c988e46618994b8fba546326f\"\nprediction_key = \"ee96ce4c988e46618994b8fba546326f\"\nprediction_resource_id = \"/subscriptions/d0c96ed6-4a68-4c71-96d1-08b497bca696/resourceGroups/customvision/providers/Microsoft.CognitiveServices/accounts/customvision\"\n\npublish_iteration_name = \"detectModel\"\n\ntrainer = CustomVisionTrainingClient(training_key, endpoint=ENDPOINT)\n\n# Find the object detection domain\nobj_detection_domain = next(domain for domain in trainer.get_domains() if domain.type == \"ObjectDetection\" and domain.name == \"General\")\n\n# Create a new project\nprint (\"Creating project...\")\nproject = trainer.create_project(\"My Detection Project\", domain_id=obj_detection_domain.id)",
      "execution_count": 17,
      "outputs": [
        {
          "output_type": "stream",
          "text": "Creating project...\n",
          "name": "stdout"
        }
      ]
    },
    {
      "metadata": {
        "trusted": true
      },
      "cell_type": "code",
      "source": "raim_tag = trainer.create_tag(project.id, \"raim\")",
      "execution_count": 18,
      "outputs": []
    },
    {
      "metadata": {
        "trusted": true
      },
      "cell_type": "code",
      "source": "import os\nimport pandas as pd\n\ndfall=pd.read_csv(\"./all.list\",header=None, sep=' ')\ndfall.columns=['f']\n\ndfall",
      "execution_count": 19,
      "outputs": [
        {
          "output_type": "execute_result",
          "execution_count": 19,
          "data": {
            "text/html": "<div>\n<style scoped>\n    .dataframe tbody tr th:only-of-type {\n        vertical-align: middle;\n    }\n\n    .dataframe tbody tr th {\n        vertical-align: top;\n    }\n\n    .dataframe thead th {\n        text-align: right;\n    }\n</style>\n<table border=\"1\" class=\"dataframe\">\n  <thead>\n    <tr style=\"text-align: right;\">\n      <th></th>\n      <th>f</th>\n    </tr>\n  </thead>\n  <tbody>\n    <tr>\n      <th>0</th>\n      <td>CDY_2015</td>\n    </tr>\n    <tr>\n      <th>1</th>\n      <td>CDY_2016</td>\n    </tr>\n    <tr>\n      <th>2</th>\n      <td>CDY_2017</td>\n    </tr>\n    <tr>\n      <th>3</th>\n      <td>CDY_2018</td>\n    </tr>\n    <tr>\n      <th>4</th>\n      <td>CDY_20180427_152724818_BURST000_COVER_TOP</td>\n    </tr>\n    <tr>\n      <th>5</th>\n      <td>CDY_20180427_152823935_BURST000_COVER_TOP</td>\n    </tr>\n    <tr>\n      <th>6</th>\n      <td>CDY_20180427_152937457_BURST000_COVER_TOP</td>\n    </tr>\n    <tr>\n      <th>7</th>\n      <td>CDY_20180427_153021423_BURST001</td>\n    </tr>\n    <tr>\n      <th>8</th>\n      <td>CDY_20180427_153126820_BURST000_COVER_TOP</td>\n    </tr>\n    <tr>\n      <th>9</th>\n      <td>CDY_20180427_153126820_BURST001</td>\n    </tr>\n    <tr>\n      <th>10</th>\n      <td>CDY_20180427_153144437_BURST000_COVER_TOP</td>\n    </tr>\n    <tr>\n      <th>11</th>\n      <td>CDY_20180427_153152483_BURST001</td>\n    </tr>\n    <tr>\n      <th>12</th>\n      <td>CDY_20180427_153201477_BURST000_COVER_TOP</td>\n    </tr>\n    <tr>\n      <th>13</th>\n      <td>CDY_20180427_153310519_BURST000_COVER_TOP</td>\n    </tr>\n    <tr>\n      <th>14</th>\n      <td>CDY_20180427_153409150_BURST000_COVER_TOP</td>\n    </tr>\n    <tr>\n      <th>15</th>\n      <td>CDY_20180427_153421615_BURST001</td>\n    </tr>\n    <tr>\n      <th>16</th>\n      <td>CDY_20180427_153433120_BURST001</td>\n    </tr>\n    <tr>\n      <th>17</th>\n      <td>CDY_20180427_153557690_BURST000_COVER_TOP</td>\n    </tr>\n    <tr>\n      <th>18</th>\n      <td>CDY_20180427_153615626_BURST000_COVER_TOP</td>\n    </tr>\n    <tr>\n      <th>19</th>\n      <td>CDY_2019</td>\n    </tr>\n    <tr>\n      <th>20</th>\n      <td>CDY_2020</td>\n    </tr>\n    <tr>\n      <th>21</th>\n      <td>CDY_2021</td>\n    </tr>\n    <tr>\n      <th>22</th>\n      <td>CDY_2022</td>\n    </tr>\n    <tr>\n      <th>23</th>\n      <td>CDY_2023</td>\n    </tr>\n    <tr>\n      <th>24</th>\n      <td>CDY_2024</td>\n    </tr>\n    <tr>\n      <th>25</th>\n      <td>CDY_2025</td>\n    </tr>\n    <tr>\n      <th>26</th>\n      <td>CDY_2026</td>\n    </tr>\n    <tr>\n      <th>27</th>\n      <td>CDY_2027</td>\n    </tr>\n    <tr>\n      <th>28</th>\n      <td>CDY_2028</td>\n    </tr>\n    <tr>\n      <th>29</th>\n      <td>CDY_2029</td>\n    </tr>\n    <tr>\n      <th>...</th>\n      <td>...</td>\n    </tr>\n    <tr>\n      <th>270</th>\n      <td>SYH_2017-04-27_1273</td>\n    </tr>\n    <tr>\n      <th>271</th>\n      <td>SYH_2017-04-27_1275</td>\n    </tr>\n    <tr>\n      <th>272</th>\n      <td>SYH_2017-04-27_1278</td>\n    </tr>\n    <tr>\n      <th>273</th>\n      <td>SYH_2017-04-27_1280</td>\n    </tr>\n    <tr>\n      <th>274</th>\n      <td>SYH_2017-04-27_1285</td>\n    </tr>\n    <tr>\n      <th>275</th>\n      <td>SYH_2017-04-27_1289</td>\n    </tr>\n    <tr>\n      <th>276</th>\n      <td>SYH_2017-04-27_1291</td>\n    </tr>\n    <tr>\n      <th>277</th>\n      <td>SYH_2017-04-27_1292</td>\n    </tr>\n    <tr>\n      <th>278</th>\n      <td>SYH_2017-04-27_1294</td>\n    </tr>\n    <tr>\n      <th>279</th>\n      <td>SYH_2017-04-27_1297</td>\n    </tr>\n    <tr>\n      <th>280</th>\n      <td>SYH_2017-04-27_1300</td>\n    </tr>\n    <tr>\n      <th>281</th>\n      <td>SYH_2017-04-27_1304</td>\n    </tr>\n    <tr>\n      <th>282</th>\n      <td>SYH_2017-04-27_1310</td>\n    </tr>\n    <tr>\n      <th>283</th>\n      <td>SYH_2017-04-27_1311</td>\n    </tr>\n    <tr>\n      <th>284</th>\n      <td>SYH_2017-04-27_1312</td>\n    </tr>\n    <tr>\n      <th>285</th>\n      <td>SYH_2017-04-27_1314</td>\n    </tr>\n    <tr>\n      <th>286</th>\n      <td>SYH_2017-04-27_1316</td>\n    </tr>\n    <tr>\n      <th>287</th>\n      <td>SYH_2017-04-27_1318</td>\n    </tr>\n    <tr>\n      <th>288</th>\n      <td>SYH_2017-04-27_1320</td>\n    </tr>\n    <tr>\n      <th>289</th>\n      <td>SYH_2017-04-27_1322</td>\n    </tr>\n    <tr>\n      <th>290</th>\n      <td>SYH_2017-04-27_1324</td>\n    </tr>\n    <tr>\n      <th>291</th>\n      <td>SYH_2017-04-27_1326</td>\n    </tr>\n    <tr>\n      <th>292</th>\n      <td>SYH_2017-04-27_1332</td>\n    </tr>\n    <tr>\n      <th>293</th>\n      <td>SYH_2017-04-27_1333</td>\n    </tr>\n    <tr>\n      <th>294</th>\n      <td>SYH_2017-04-27_1334</td>\n    </tr>\n    <tr>\n      <th>295</th>\n      <td>SYH_2017-04-27_1336</td>\n    </tr>\n    <tr>\n      <th>296</th>\n      <td>SYH_2017-04-27_1338</td>\n    </tr>\n    <tr>\n      <th>297</th>\n      <td>SYH_2017-04-27_1340</td>\n    </tr>\n    <tr>\n      <th>298</th>\n      <td>SYH_2017-04-27_1342</td>\n    </tr>\n    <tr>\n      <th>299</th>\n      <td>SYH_2017-04-27_1344</td>\n    </tr>\n  </tbody>\n</table>\n<p>300 rows × 1 columns</p>\n</div>",
            "text/plain": "                                             f\n0                                     CDY_2015\n1                                     CDY_2016\n2                                     CDY_2017\n3                                     CDY_2018\n4    CDY_20180427_152724818_BURST000_COVER_TOP\n5    CDY_20180427_152823935_BURST000_COVER_TOP\n6    CDY_20180427_152937457_BURST000_COVER_TOP\n7              CDY_20180427_153021423_BURST001\n8    CDY_20180427_153126820_BURST000_COVER_TOP\n9              CDY_20180427_153126820_BURST001\n10   CDY_20180427_153144437_BURST000_COVER_TOP\n11             CDY_20180427_153152483_BURST001\n12   CDY_20180427_153201477_BURST000_COVER_TOP\n13   CDY_20180427_153310519_BURST000_COVER_TOP\n14   CDY_20180427_153409150_BURST000_COVER_TOP\n15             CDY_20180427_153421615_BURST001\n16             CDY_20180427_153433120_BURST001\n17   CDY_20180427_153557690_BURST000_COVER_TOP\n18   CDY_20180427_153615626_BURST000_COVER_TOP\n19                                    CDY_2019\n20                                    CDY_2020\n21                                    CDY_2021\n22                                    CDY_2022\n23                                    CDY_2023\n24                                    CDY_2024\n25                                    CDY_2025\n26                                    CDY_2026\n27                                    CDY_2027\n28                                    CDY_2028\n29                                    CDY_2029\n..                                         ...\n270                        SYH_2017-04-27_1273\n271                        SYH_2017-04-27_1275\n272                        SYH_2017-04-27_1278\n273                        SYH_2017-04-27_1280\n274                        SYH_2017-04-27_1285\n275                        SYH_2017-04-27_1289\n276                        SYH_2017-04-27_1291\n277                        SYH_2017-04-27_1292\n278                        SYH_2017-04-27_1294\n279                        SYH_2017-04-27_1297\n280                        SYH_2017-04-27_1300\n281                        SYH_2017-04-27_1304\n282                        SYH_2017-04-27_1310\n283                        SYH_2017-04-27_1311\n284                        SYH_2017-04-27_1312\n285                        SYH_2017-04-27_1314\n286                        SYH_2017-04-27_1316\n287                        SYH_2017-04-27_1318\n288                        SYH_2017-04-27_1320\n289                        SYH_2017-04-27_1322\n290                        SYH_2017-04-27_1324\n291                        SYH_2017-04-27_1326\n292                        SYH_2017-04-27_1332\n293                        SYH_2017-04-27_1333\n294                        SYH_2017-04-27_1334\n295                        SYH_2017-04-27_1336\n296                        SYH_2017-04-27_1338\n297                        SYH_2017-04-27_1340\n298                        SYH_2017-04-27_1342\n299                        SYH_2017-04-27_1344\n\n[300 rows x 1 columns]"
          },
          "metadata": {}
        }
      ]
    },
    {
      "metadata": {
        "trusted": true
      },
      "cell_type": "code",
      "source": "import os\nimport pandas as pd\nimport numpy as np\nfrom io import StringIO\nimport requests\n\nbase_image_url = 'https://raw.githubusercontent.com/nowheremanmail/wgisd/master/data/'\n\n# Go through the data table above and create the images\nprint (\"Adding images...\")\ntagged_images_with_regions = []\n\nfor file_names in dfall.values:\n    file_name = file_names[0]\n    print (file_name)\n    regions = []\n\n    s=base_image_url + file_name + '.txt'\n    df=pd.read_csv(s,header=None, sep=' ')\n    df.columns=['c', 'x','y', 'w', 'h']\n\n    #print (df.values)\n\n    regions = []\n    for i in df.values:\n         regions += [ Region(tag_id=raim_tag.id, left=i[1]-i[3]/2,top=i[2]-i[4]/2,width=i[3],height=i[4]) ]\n\n    #print(regions)\n    ss = base_image_url + file_name + '.jpg'\n    image_contents = requests.get(ss).content\n    tagged_images_with_regions.append(ImageFileCreateEntry(name=file_name, contents=image_contents, regions=regions))\n\n    if len(tagged_images_with_regions) >= 50:\n        upload_result = trainer.create_images_from_files(project.id, images=tagged_images_with_regions)\n        if not upload_result.is_batch_successful:\n            print(\"Image batch upload failed.\")\n            for image in upload_result.images:\n                print(\"Image status: \", image.status)\n        tagged_images_with_regions = []\n        \n                \nif len(tagged_images_with_regions) > 0:\n    upload_result = trainer.create_images_from_files(project.id, images=tagged_images_with_regions)\n    if not upload_result.is_batch_successful:\n        print(\"Image batch upload failed.\")\n        for image in upload_result.images:\n            print(\"Image status: \", image.status)\n",
      "execution_count": 24,
      "outputs": [
        {
          "output_type": "stream",
          "text": "Adding images...\nCDY_2015\nCDY_2016\nCDY_2017\nCDY_2018\nCDY_20180427_152724818_BURST000_COVER_TOP\nCDY_20180427_152823935_BURST000_COVER_TOP\nCDY_20180427_152937457_BURST000_COVER_TOP\nCDY_20180427_153021423_BURST001\nCDY_20180427_153126820_BURST000_COVER_TOP\nCDY_20180427_153126820_BURST001\nCDY_20180427_153144437_BURST000_COVER_TOP\nCDY_20180427_153152483_BURST001\nCDY_20180427_153201477_BURST000_COVER_TOP\nCDY_20180427_153310519_BURST000_COVER_TOP\nCDY_20180427_153409150_BURST000_COVER_TOP\nCDY_20180427_153421615_BURST001\nCDY_20180427_153433120_BURST001\nCDY_20180427_153557690_BURST000_COVER_TOP\nCDY_20180427_153615626_BURST000_COVER_TOP\nCDY_2019\nCDY_2020\nCDY_2021\nCDY_2022\nCDY_2023\nCDY_2024\nCDY_2025\nCDY_2026\nCDY_2027\nCDY_2028\nCDY_2029\nCDY_2030\nCDY_2031\nCDY_2032\nCDY_2033\nCDY_2034\nCDY_2035\nCDY_2036\nCDY_2037\nCDY_2038\nCDY_2039\nCDY_2040\nCDY_2041\nCDY_2042\nCDY_2043\nCDY_2044\nCDY_2045\nCDY_2046\nCDY_2047\nCDY_2048\nCDY_2049\nCDY_2050\nCDY_2051\nCDY_2052\nCDY_2053\nCDY_2054\nCDY_2055\nCDY_2056\nCDY_2057\nCDY_2058\nCDY_2059\nCDY_2060\nCDY_2061\nCDY_2062\nCDY_2063\nCDY_2064\nCFR_1620\nCFR_1621\nCFR_1622\nCFR_1623\nCFR_1624\nCFR_1625\nCFR_1626\nCFR_1627\nCFR_1628\nCFR_1629\nCFR_1630\nCFR_1631\nCFR_1632\nCFR_1633\nCFR_1634\nCFR_1635\nCFR_1636\nCFR_1637\nCFR_1638\nCFR_1639\nCFR_1640\nCFR_1641\nCFR_1642\nCFR_1643\nCFR_1644\nCFR_1645\nCFR_1646\nCFR_1647\nCFR_1648\nCFR_1650\nCFR_1651\nCFR_1652\nCFR_1653\nCFR_1654\nCFR_1655\nCFR_1656\nCFR_1657\nCFR_1658\nCFR_1659\nCFR_1660\nCFR_1661\nCFR_1662\nCFR_1663\nCFR_1664\nCFR_1666\nCFR_1667\nCFR_1668\nCFR_1670\nCFR_1671\nCFR_1672\nCFR_20180427_141010086_HDR\nCFR_20180427_141030745_HDR\nCFR_20180427_141059738_HDR\nCFR_20180427_141115778_HDR\nCFR_20180427_141119803_HDR\nCFR_20180427_141128570\nCFR_20180427_141134599\nCFR_20180427_141150696\nCFR_20180427_141158495\nCFR_20180427_141215627\nCFR_20180427_141224656\nCFR_20180427_141228722\nCFR_20180427_141236326\nCFR_20180427_141239085\nCFR_20180427_141254316_HDR\nCSV_1865\nCSV_1866\nCSV_1867\nCSV_1868\nCSV_1869\nCSV_1870\nCSV_1871\nCSV_1872\nCSV_1873\nCSV_1874\nCSV_1876\nCSV_1877\nCSV_1878\nCSV_1880\nCSV_1881\nCSV_1882\nCSV_1883\nCSV_1884\nCSV_1886\nCSV_1887\nCSV_1889\nCSV_1890\nCSV_1891\nCSV_1892\nCSV_1893\nCSV_1894\nCSV_1896\nCSV_1897\nCSV_1898\nCSV_1899\nCSV_1900\nCSV_1901\nCSV_1902\nCSV_1903\nCSV_1904\nCSV_1905\nCSV_1906\nCSV_1907\nCSV_1908\nCSV_1909\nCSV_1911\nCSV_1912\nCSV_20180427_144507419\nCSV_20180427_144513954\nCSV_20180427_144521946\nCSV_20180427_144528920\nCSV_20180427_144535647\nCSV_20180427_144548550\nCSV_20180427_144556277\nCSV_20180427_144602780\nCSV_20180427_144615644\nCSV_20180427_144622111_HDR\nCSV_20180427_144714850_HDR\nCSV_20180427_144723166_HDR\nCSV_20180427_144732784_HDR\nCSV_20180427_144743364_HDR\nCSV_20180427_144848357\nSVB_1929\nSVB_1930\nSVB_1931\nSVB_1932\nSVB_1933\nSVB_1934\nSVB_1935\nSVB_1936\nSVB_1937\nSVB_1938\nSVB_1939\nSVB_1940\nSVB_1941\nSVB_1942\nSVB_1943\nSVB_1944\nSVB_1945\nSVB_1946\nSVB_1947\nSVB_1948\nSVB_1949\nSVB_1950\nSVB_1951\nSVB_1952\nSVB_1953\nSVB_1954\nSVB_1955\nSVB_1956\nSVB_1957\nSVB_1958\nSVB_1959\nSVB_1960\nSVB_1961\nSVB_1962\nSVB_1963\nSVB_1964\nSVB_1965\nSVB_1966\nSVB_1967\nSVB_1968\nSVB_1969\nSVB_1970\nSVB_1971\nSVB_1972\nSVB_1973\nSVB_1974\nSVB_1975\nSVB_1976\nSVB_1977\nSVB_1978\nSVB_20180427_151818928\nSVB_20180427_151832492\nSVB_20180427_151848752\nSVB_20180427_151905850_HDR\nSVB_20180427_151954938_HDR\nSVB_20180427_152010406_HDR\nSVB_20180427_152027593_HDR\nSVB_20180427_152106643_HDR\nSVB_20180427_152141327\nSVB_20180427_152158290_HDR\nSVB_20180427_152220515_HDR\nSVB_20180427_152312131_HDR\nSVB_20180427_152328332_HDR\nSVB_20180427_152404735_HDR\nSVB_20180427_152414932_HDR\nSYH_2017-04-27_1232\nSYH_2017-04-27_1233\nSYH_2017-04-27_1236\nSYH_2017-04-27_1238\nSYH_2017-04-27_1239\nSYH_2017-04-27_1241\nSYH_2017-04-27_1243\nSYH_2017-04-27_1247\nSYH_2017-04-27_1251\nSYH_2017-04-27_1253\nSYH_2017-04-27_1255\nSYH_2017-04-27_1260\nSYH_2017-04-27_1262\nSYH_2017-04-27_1264\nSYH_2017-04-27_1265\nSYH_2017-04-27_1268\nSYH_2017-04-27_1269\nSYH_2017-04-27_1271\nSYH_2017-04-27_1273\nSYH_2017-04-27_1275\nSYH_2017-04-27_1278\nSYH_2017-04-27_1280\nSYH_2017-04-27_1285\nSYH_2017-04-27_1289\nSYH_2017-04-27_1291\nSYH_2017-04-27_1292\nSYH_2017-04-27_1294\nSYH_2017-04-27_1297\nSYH_2017-04-27_1300\nSYH_2017-04-27_1304\nSYH_2017-04-27_1310\nSYH_2017-04-27_1311\nSYH_2017-04-27_1312\nSYH_2017-04-27_1314\nSYH_2017-04-27_1316\nSYH_2017-04-27_1318\nSYH_2017-04-27_1320\nSYH_2017-04-27_1322\nSYH_2017-04-27_1324\nSYH_2017-04-27_1326\nSYH_2017-04-27_1332\nSYH_2017-04-27_1333\nSYH_2017-04-27_1334\nSYH_2017-04-27_1336\nSYH_2017-04-27_1338\nSYH_2017-04-27_1340\nSYH_2017-04-27_1342\nSYH_2017-04-27_1344\n",
          "name": "stdout"
        }
      ]
    },
    {
      "metadata": {
        "trusted": true
      },
      "cell_type": "code",
      "source": "",
      "execution_count": null,
      "outputs": []
    }
  ],
  "metadata": {
    "kernelspec": {
      "name": "python36",
      "display_name": "Python 3.6",
      "language": "python"
    },
    "language_info": {
      "mimetype": "text/x-python",
      "nbconvert_exporter": "python",
      "name": "python",
      "pygments_lexer": "ipython3",
      "version": "3.6.6",
      "file_extension": ".py",
      "codemirror_mode": {
        "version": 3,
        "name": "ipython"
      }
    }
  },
  "nbformat": 4,
  "nbformat_minor": 1
}
