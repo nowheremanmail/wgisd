{
  "cells": [
    {
      "metadata": {
        "trusted": true
      },
      "cell_type": "code",
      "source": "!pip install azure-cognitiveservices-vision-customvision\n",
      "execution_count": 5,
      "outputs": [
        {
          "output_type": "stream",
          "text": "Collecting azure-cognitiveservices-vision-customvision\n\u001b[?25l  Downloading https://files.pythonhosted.org/packages/75/23/1b19ab32108319a4a30ea19559aad8ffbd5cc0b6d136f208fc2f78088715/azure_cognitiveservices_vision_customvision-1.0.0-py2.py3-none-any.whl (109kB)\n\u001b[K     |████████████████████████████████| 112kB 1.5MB/s eta 0:00:01    |███████████████                 | 51kB 1.7MB/s eta 0:00:01\n\u001b[?25hRequirement already satisfied: azure-common~=1.1 in /home/nbuser/anaconda3_501/lib/python3.6/site-packages (from azure-cognitiveservices-vision-customvision) (1.1.23)\nRequirement already satisfied: msrest>=0.5.0 in /home/nbuser/anaconda3_501/lib/python3.6/site-packages (from azure-cognitiveservices-vision-customvision) (0.6.10)\nRequirement already satisfied: isodate>=0.6.0 in /home/nbuser/anaconda3_501/lib/python3.6/site-packages (from msrest>=0.5.0->azure-cognitiveservices-vision-customvision) (0.6.0)\nRequirement already satisfied: requests-oauthlib>=0.5.0 in /home/nbuser/anaconda3_501/lib/python3.6/site-packages (from msrest>=0.5.0->azure-cognitiveservices-vision-customvision) (1.3.0)\nRequirement already satisfied: certifi>=2017.4.17 in /home/nbuser/anaconda3_501/lib/python3.6/site-packages (from msrest>=0.5.0->azure-cognitiveservices-vision-customvision) (2018.10.15)\nRequirement already satisfied: requests~=2.16 in /home/nbuser/anaconda3_501/lib/python3.6/site-packages (from msrest>=0.5.0->azure-cognitiveservices-vision-customvision) (2.22.0)\nRequirement already satisfied: six in /home/nbuser/anaconda3_501/lib/python3.6/site-packages (from isodate>=0.6.0->msrest>=0.5.0->azure-cognitiveservices-vision-customvision) (1.11.0)\nRequirement already satisfied: oauthlib>=3.0.0 in /home/nbuser/anaconda3_501/lib/python3.6/site-packages (from requests-oauthlib>=0.5.0->msrest>=0.5.0->azure-cognitiveservices-vision-customvision) (3.1.0)\nRequirement already satisfied: idna<2.9,>=2.5 in /home/nbuser/anaconda3_501/lib/python3.6/site-packages (from requests~=2.16->msrest>=0.5.0->azure-cognitiveservices-vision-customvision) (2.7)\nRequirement already satisfied: urllib3!=1.25.0,!=1.25.1,<1.26,>=1.21.1 in /home/nbuser/anaconda3_501/lib/python3.6/site-packages (from requests~=2.16->msrest>=0.5.0->azure-cognitiveservices-vision-customvision) (1.23)\nRequirement already satisfied: chardet<3.1.0,>=3.0.2 in /home/nbuser/anaconda3_501/lib/python3.6/site-packages (from requests~=2.16->msrest>=0.5.0->azure-cognitiveservices-vision-customvision) (3.0.4)\nInstalling collected packages: azure-cognitiveservices-vision-customvision\nSuccessfully installed azure-cognitiveservices-vision-customvision-1.0.0\n\u001b[33mWARNING: You are using pip version 19.3.1; however, version 20.0.2 is available.\nYou should consider upgrading via the 'pip install --upgrade pip' command.\u001b[0m\n",
          "name": "stdout"
        }
      ]
    },
    {
      "metadata": {
        "trusted": true
      },
      "cell_type": "code",
      "source": "from azure.cognitiveservices.vision.customvision.training import CustomVisionTrainingClient\nfrom azure.cognitiveservices.vision.customvision.training.models import ImageFileCreateEntry, Region\n\nENDPOINT = \"https://westeurope.api.cognitive.microsoft.com/\"\n\n# Replace with a valid key\ntraining_key = \"ee96ce4c988e46618994b8fba546326f\"\nprediction_key = \"ee96ce4c988e46618994b8fba546326f\"\nprediction_resource_id = \"/subscriptions/d0c96ed6-4a68-4c71-96d1-08b497bca696/resourceGroups/customvision/providers/Microsoft.CognitiveServices/accounts/customvision\"\n\npublish_iteration_name = \"detectModel\"\n\ntrainer = CustomVisionTrainingClient(training_key, endpoint=ENDPOINT)\n\n# Find the object detection domain\nobj_detection_domain = next(domain for domain in trainer.get_domains() if domain.type == \"ObjectDetection\" and domain.name == \"General\")\n\n# Create a new project\nprint (\"Creating project...\")\nproject = trainer.create_project(\"My Detection Project\", domain_id=obj_detection_domain.id)",
      "execution_count": 10,
      "outputs": [
        {
          "output_type": "stream",
          "text": "Creating project...\n",
          "name": "stdout"
        }
      ]
    },
    {
      "metadata": {
        "trusted": true
      },
      "cell_type": "code",
      "source": "raim_tag = trainer.create_tag(project.id, \"raim\")",
      "execution_count": 11,
      "outputs": []
    },
    {
      "metadata": {
        "trusted": true
      },
      "cell_type": "code",
      "source": "import os\nimport pandas as pd\nimport numpy as np\n\nbase_image_url = \"./images\"\n\n\n# Go through the data table above and create the images\nprint (\"Adding images...\")\ntagged_images_with_regions = []\n\nfor root, folders, filenames in os.walk(base_image_url):\n    for file_name in filenames:\n        if file_name.endswith(\".png\") or file_name.endswith(\".jpg\"):\n            print (file_name)\n            regions = []\n\n            df=pd.read_csv(base_image_url + \"/\" + file_name[:-4] + \".txt\",header=None, sep=' ')\n            df.columns=['c', 'x','y', 'w', 'h']\n\n            #print (df.values)\n\n            regions = []\n            for i in df.values:\n                 regions += [ Region(tag_id=raim_tag.id, left=i[1]-i[3]/2,top=i[2]-i[4]/2,width=i[3],height=i[4]) ]\n\n            #print(regions)\n\n            with open(base_image_url + \"/\" + file_name, mode=\"rb\") as image_contents:\n                tagged_images_with_regions.append(ImageFileCreateEntry(name=file_name, contents=image_contents.read(), regions=regions))\n\nupload_result = trainer.create_images_from_files(project.id, images=tagged_images_with_regions)\nif not upload_result.is_batch_successful:\n    print(\"Image batch upload failed.\")\n    for image in upload_result.images:\n        print(\"Image status: \", image.status)\n    ",
      "execution_count": 15,
      "outputs": [
        {
          "output_type": "stream",
          "text": "Adding images...\nCDY_2016.jpg\nCDY_2015.jpg\n",
          "name": "stdout"
        }
      ]
    },
    {
      "metadata": {
        "trusted": true
      },
      "cell_type": "code",
      "source": "",
      "execution_count": null,
      "outputs": []
    }
  ],
  "metadata": {
    "kernelspec": {
      "name": "python36",
      "display_name": "Python 3.6",
      "language": "python"
    },
    "language_info": {
      "mimetype": "text/x-python",
      "nbconvert_exporter": "python",
      "name": "python",
      "pygments_lexer": "ipython3",
      "version": "3.6.6",
      "file_extension": ".py",
      "codemirror_mode": {
        "version": 3,
        "name": "ipython"
      }
    }
  },
  "nbformat": 4,
  "nbformat_minor": 1
}